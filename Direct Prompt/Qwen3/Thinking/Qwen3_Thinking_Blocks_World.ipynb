{
 "nbformat": 4,
 "nbformat_minor": 0,
 "metadata": {
  "colab": {
   "provenance": []
  },
  "kernelspec": {
   "name": "python3",
   "display_name": "Python 3"
  },
  "language_info": {
   "name": "python"
  }
 },
 "cells": [
  {
   "cell_type": "code",
   "execution_count": null,
   "metadata": {
    "colab": {
     "base_uri": "https://localhost:8080/"
    },
    "id": "0kkEC_dYYvJ2",
    "outputId": "5576890e-20ab-42e6-8224-5395008e3df8"
   },
   "outputs": [
    {
     "output_type": "stream",
     "name": "stdout",
     "text": [
      "\n"
     ]
    }
   ],
   "source": [
    "from openai import OpenAI\n",
    "\n",
    "client = OpenAI(\n",
    "  base_url=\"https://openrouter.ai/api/v1\",\n",
    "  api_key=\"\",#Your model API key here\n",
    ")\n",
    "messages=[ {\"role\":\"system\",\"content\":\n",
    "       \"\"\"\n",
    "You are a helpful assistant. Solve this puzzle for me.\n",
    "In this puzzle, there are stacks of blocks, and the goal is to rearrange them into a target configuration using a sequence of moves where:\n",
    "• Only the topmost block from any stack can be moved.\n",
    "• A block can be placed either on an empty position or on top of another block.\n",
    "Example: With initial state [[\"A\", \"B\"], [\"C\"], []] and goal state [[\"A\"], [\"B\"], [\"C\"]], a solution might be:\n",
    "moves = [[\" C \" , 1 , 2] , [\" B \" , 0 , 1]]\n",
    "This means: Move block C from stack 1 to stack 2, then move block B from stack 0 to stack 1. Requirements:\n",
    "• When exploring potential solutions in your thinking process, always include the corresponding complete list of moves.\n",
    "• Ensure your final answer also includes the complete list of moves for final solution in the format: moves = [[block, from stack, to stack], ...]\n",
    "\n",
    "       \"\"\"\n",
    "      },\n",
    "      {\"role\": \"user\", \"content\":\n",
    "       \"\"\"\n",
    "I have a puzzle with $N$ blocks.\n",
    "Initial state:\n",
    "Stack 0: A, B, C, D, E, F, G， H, I(top)\n",
    "Stack 1:  (top) ...\n",
    "Stack 2:  (top)\n",
    "Goal state:\n",
    "Stack 0: A, B, C(top)\n",
    "Stack 1: D, E, F(top) ...\n",
    "Stack 2: G, H, I(top)\n",
    "Find the minimum sequence of moves to transform the initial state into the goal state. Remember that only the topmost block of each stack can be moved.\n",
    "\n",
    "\n",
    "       \"\"\"},\n",
    "    ]\n",
    "\n",
    "completion = client.chat.completions.create(\n",
    "  extra_headers={\n",
    "  },\n",
    "  extra_body={\"enable_thinking\": True},\n",
    "  model=\"qwen/qwen3-32b\",\n",
    "  max_tokens=64000,\n",
    "  messages=messages\n",
    ")\n",
    "print(completion.choices[0].message.content)"
   ]
  },
  {
   "cell_type": "code",
   "source": [
    "from typing import List, Tuple\n",
    "\n",
    "State = List[List[str]]\n",
    "Move  = Tuple[str, int, int]      # (block, src_stack, dst_stack)\n",
    "\n",
    "def validate_moves(moves: List[Move],\n",
    "                   initial: State,\n",
    "                   goal: State,\n",
    "                   verbose: bool = False) -> bool:\n",
    "    \"\"\"\n",
    "    检查给定 moves 是否把 initial 合法地变成 goal。\n",
    "    • 每一步只能搬源栈顶部\n",
    "    • 放置位置必须合法（栈顶或空栈）\n",
    "    • 最终状态必须恰好等于 goal\n",
    "    \"\"\"\n",
    "    # 深拷贝，防止修改原始列表\n",
    "    stacks = [col[:] for col in initial]\n",
    "\n",
    "    def top(idx: int):\n",
    "        return stacks[idx][-1] if stacks[idx] else None\n",
    "\n",
    "    for step, (blk, src, dst) in enumerate(moves, start=1):\n",
    "        # ---------- 合法性检查 ----------\n",
    "        if not stacks[src]:\n",
    "            raise ValueError(f\"Step {step}: source stack {src} is empty.\")\n",
    "        if top(src) != blk:\n",
    "            raise ValueError(\n",
    "                f\"Step {step}: top of stack {src} is {top(src)}, expected {blk}.\")\n",
    "\n",
    "        # ---------- 执行移动 ----------\n",
    "        stacks[src].pop()\n",
    "        stacks[dst].append(blk)\n",
    "\n",
    "        if verbose:\n",
    "            print(f\"After step {step}: {stacks}\")\n",
    "\n",
    "    # ---------- 结果检查 ----------\n",
    "    if stacks != goal:\n",
    "        raise AssertionError(\n",
    "            f\"Final state differs from goal.\\nGot : {stacks}\\nGoal: {goal}\")\n",
    "\n",
    "    if verbose:\n",
    "        print(\"✓ All moves valid and goal reached!\")\n",
    "    return True\n",
    "\n",
    "if __name__ == \"__main__\":\n",
    "    # 手动填入你的动作序列 ↓↓↓\n",
    "    moves = [\n",
    "    [\"I\", 0, 1], [\"H\", 0, 1], [\"G\", 0, 2], [\"H\", 1, 2], [\"I\", 1, 2], [\"F\", 0, 1], [\"E\", 0, 1], [\"D\", 0, 1]\n",
    "    ]\n",
    "\n",
    "    # 初始 / 目标状态（列表最后一个元素是栈顶）\n",
    "    initial_state = [[\"A\", \"B\", \"C\", \"D\", \"E\",\"F\",\"G\",\"H\",\"I\"], [], []]\n",
    "    goal_state = [[\"A\", \"B\",\"C\"], [\"D\",\"E\",\"F\"], [\"G\",\"H\",\"I\"]]\n",
    "\n",
    "    # 运行验证（verbose=True 会打印每一步）\n",
    "    validate_moves(moves, initial_state, goal_state, verbose=True)"
   ],
   "metadata": {
    "colab": {
     "base_uri": "https://localhost:8080/",
     "height": 496
    },
    "id": "IvRHuu6LY17A",
    "outputId": "1ce288db-ac68-40f4-a498-c7c2563bc5f3"
   },
   "execution_count": null,
   "outputs": [
    {
     "output_type": "stream",
     "name": "stdout",
     "text": [
      "After step 1: [['A', 'B', 'C', 'D', 'E', 'F', 'G', 'H'], ['I'], []]\n",
      "After step 2: [['A', 'B', 'C', 'D', 'E', 'F', 'G'], ['I', 'H'], []]\n",
      "After step 3: [['A', 'B', 'C', 'D', 'E', 'F'], ['I', 'H'], ['G']]\n",
      "After step 4: [['A', 'B', 'C', 'D', 'E', 'F'], ['I'], ['G', 'H']]\n",
      "After step 5: [['A', 'B', 'C', 'D', 'E', 'F'], [], ['G', 'H', 'I']]\n",
      "After step 6: [['A', 'B', 'C', 'D', 'E'], ['F'], ['G', 'H', 'I']]\n",
      "After step 7: [['A', 'B', 'C', 'D'], ['F', 'E'], ['G', 'H', 'I']]\n",
      "After step 8: [['A', 'B', 'C'], ['F', 'E', 'D'], ['G', 'H', 'I']]\n"
     ]
    },
    {
     "output_type": "error",
     "ename": "AssertionError",
     "evalue": "Final state differs from goal.\nGot : [['A', 'B', 'C'], ['F', 'E', 'D'], ['G', 'H', 'I']]\nGoal: [['A', 'B', 'C'], ['D', 'E', 'F'], ['G', 'H', 'I']]",
     "traceback": [
      "\u001B[0;31m---------------------------------------------------------------------------\u001B[0m",
      "\u001B[0;31mAssertionError\u001B[0m                            Traceback (most recent call last)",
      "\u001B[0;32m/tmp/ipython-input-29-2266184455.py\u001B[0m in \u001B[0;36m<cell line: 0>\u001B[0;34m()\u001B[0m\n\u001B[1;32m     55\u001B[0m \u001B[0;34m\u001B[0m\u001B[0m\n\u001B[1;32m     56\u001B[0m     \u001B[0;31m# 运行验证（verbose=True 会打印每一步）\u001B[0m\u001B[0;34m\u001B[0m\u001B[0;34m\u001B[0m\u001B[0m\n\u001B[0;32m---> 57\u001B[0;31m     \u001B[0mvalidate_moves\u001B[0m\u001B[0;34m(\u001B[0m\u001B[0mmoves\u001B[0m\u001B[0;34m,\u001B[0m \u001B[0minitial_state\u001B[0m\u001B[0;34m,\u001B[0m \u001B[0mgoal_state\u001B[0m\u001B[0;34m,\u001B[0m \u001B[0mverbose\u001B[0m\u001B[0;34m=\u001B[0m\u001B[0;32mTrue\u001B[0m\u001B[0;34m)\u001B[0m\u001B[0;34m\u001B[0m\u001B[0;34m\u001B[0m\u001B[0m\n\u001B[0m",
      "\u001B[0;32m/tmp/ipython-input-29-2266184455.py\u001B[0m in \u001B[0;36mvalidate_moves\u001B[0;34m(moves, initial, goal, verbose)\u001B[0m\n\u001B[1;32m     37\u001B[0m     \u001B[0;31m# ---------- 结果检查 ----------\u001B[0m\u001B[0;34m\u001B[0m\u001B[0;34m\u001B[0m\u001B[0m\n\u001B[1;32m     38\u001B[0m     \u001B[0;32mif\u001B[0m \u001B[0mstacks\u001B[0m \u001B[0;34m!=\u001B[0m \u001B[0mgoal\u001B[0m\u001B[0;34m:\u001B[0m\u001B[0;34m\u001B[0m\u001B[0;34m\u001B[0m\u001B[0m\n\u001B[0;32m---> 39\u001B[0;31m         raise AssertionError(\n\u001B[0m\u001B[1;32m     40\u001B[0m             f\"Final state differs from goal.\\nGot : {stacks}\\nGoal: {goal}\")\n\u001B[1;32m     41\u001B[0m \u001B[0;34m\u001B[0m\u001B[0m\n",
      "\u001B[0;31mAssertionError\u001B[0m: Final state differs from goal.\nGot : [['A', 'B', 'C'], ['F', 'E', 'D'], ['G', 'H', 'I']]\nGoal: [['A', 'B', 'C'], ['D', 'E', 'F'], ['G', 'H', 'I']]"
     ]
    }
   ]
  }
 ]
}
