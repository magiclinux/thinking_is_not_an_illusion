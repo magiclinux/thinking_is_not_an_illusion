{
 "nbformat": 4,
 "nbformat_minor": 0,
 "metadata": {
  "colab": {
   "provenance": []
  },
  "kernelspec": {
   "name": "python3",
   "display_name": "Python 3"
  },
  "language_info": {
   "name": "python"
  }
 },
 "cells": [
  {
   "cell_type": "code",
   "execution_count": null,
   "metadata": {
    "colab": {
     "base_uri": "https://localhost:8080/"
    },
    "id": "vbJjwg1DYfu2",
    "outputId": "16688685-ee0d-4880-dd58-2b7d09941f58"
   },
   "outputs": [
    {
     "output_type": "stream",
     "name": "stdout",
     "text": [
      "\n"
     ]
    }
   ],
   "source": [
    "from openai import OpenAI\n",
    "\n",
    "client = OpenAI(\n",
    "  base_url=\"https://openrouter.ai/api/v1\",\n",
    "  api_key=\"\",#Your model API key here\n",
    ")\n",
    "messages=[ {\"role\":\"system\",\"content\":\n",
    "       \"\"\"\n",
    "You are a helpful assistant. Solve this puzzle for me.\n",
    "You can represent actors with a_1, a_2, ... and agents with A_1, A_2, ... . Your solution must be a list of boat moves where each move indicates the people on the boat. For example, if there were two actors and two agents, you should return:\n",
    "moves =[[\" A_2 \", \" a_2 \"] , [\" A_2 \"] , [\" A_1 \" , \" A_2 \"] , [\" A_1 \"] , [\" A_1 \" , \" a_1 \"]]\n",
    "which indicates that in the first move, A_2 and a_2 row from left to right, and in the second move, A_2 rows from right to left and so on.\n",
    "Requirements:\n",
    "• When exploring potential solutions in your thinking process, always include the corresponding complete list of boat moves.\n",
    "• The list shouldn’t have comments.\n",
    "• Ensure your final answer also includes the complete list of moves for final solution.\n",
    "       \"\"\"\n",
    "      },\n",
    "      {\"role\": \"user\", \"content\":\n",
    "       \"\"\"\n",
    "5 actors and their 5 agents want to cross a river in a boat that is capable of holding only 3 people at a time, with the constraint that no actor can be in the presence of another agent, including while riding the boat, unless their own agent is also present, because each agent is worried their rivals will poach their client.\n",
    "Initially, all actors and agents are on the left side of the river with the boat. How should they cross the river? (Note: the boat cannot travel empty)\n",
    "\n",
    "\n",
    "       \"\"\"},\n",
    "    ]\n",
    "\n",
    "completion = client.chat.completions.create(\n",
    "  extra_headers={\n",
    "  },\n",
    "  extra_body={},\n",
    "  model=\"qwen/qwen3-32b\",\n",
    "  max_tokens=64000,\n",
    "  messages=messages\n",
    ")\n",
    "print(completion.choices[0].message.content)"
   ]
  },
  {
   "cell_type": "code",
   "source": [
    "def verify_moves(\n",
    "    moves: list[tuple[str, ...]],\n",
    "    boat_capacity: int | None = None,\n",
    "    verbose: bool = False,\n",
    ") -> None:\n",
    "    \"\"\"Raise ValueError on the first rule violation; otherwise return None.\"\"\"\n",
    "    def is_safe(group: set[str]) -> bool:\n",
    "        actors  = {p for p in group if p.startswith(\"a\")}\n",
    "        agents  = {p for p in group if p.startswith(\"A\")}\n",
    "        for act in actors:\n",
    "            g = f\"A{act[1:]}\"          # guardian name\n",
    "            if g not in agents and any(other != g for other in agents):\n",
    "                return False\n",
    "        return True\n",
    "\n",
    "    people = {p.strip() for step in moves for p in step}\n",
    "    n_pairs = len(people) // 2\n",
    "    if boat_capacity is None:\n",
    "        boat_capacity = 2 if n_pairs <= 3 else 3\n",
    "\n",
    "    left, right = set(people), set()\n",
    "    boat_left   = True               # boat starts on the left\n",
    "\n",
    "    for t, step in enumerate(moves, start=1):\n",
    "        step = tuple(p.strip() for p in step)\n",
    "\n",
    "        if verbose:\n",
    "            side = \"L\" if boat_left else \"R\"\n",
    "            print(f\"\\nStep {t}  (boat on {side}, carrying {step})\")\n",
    "            print(f\"  left : {sorted(left)}\")\n",
    "            print(f\"  right: {sorted(right)}\")\n",
    "\n",
    "        # ---- rule checks ---------------------------------------------------\n",
    "        if not step:\n",
    "            raise ValueError(f\"Step {t}: boat cannot travel empty\")\n",
    "        if len(step) > boat_capacity:\n",
    "            raise ValueError(f\"Step {t}: exceeds boat capacity {boat_capacity}\")\n",
    "\n",
    "        current, other = (left, right) if boat_left else (right, left)\n",
    "        if any(p not in current for p in step):\n",
    "            missing = [p for p in step if p not in current]\n",
    "            raise ValueError(f\"Step {t}: {missing} not on the current bank\")\n",
    "\n",
    "        if not is_safe(set(step)):\n",
    "            raise ValueError(f\"Step {t}: unsafe mix *inside the boat* {step}\")\n",
    "        if not is_safe(current - set(step)):\n",
    "            raise ValueError(f\"Step {t}: unsafe mix on the departing bank after leaving\")\n",
    "        if not is_safe(other):\n",
    "            raise ValueError(f\"Step {t}: unsafe mix on the destination bank before arrival\")\n",
    "\n",
    "        # ---- perform the crossing -----------------------------------------\n",
    "        current -= set(step)\n",
    "        other   |= set(step)\n",
    "        boat_left = not boat_left        # toggle side\n",
    "\n",
    "        if not is_safe(other):\n",
    "            raise ValueError(f\"Step {t}: unsafe mix on the destination bank after arrival\")\n",
    "\n",
    "    if left:\n",
    "        raise ValueError(\"Finished, but some individuals are still on the left bank\")\n",
    "\n",
    "\n",
    "    # If we made it here, everything is valid\n",
    "    return  # success → no exception\n",
    "\n",
    "\n",
    "\n",
    "# Example usage ---------------------------------------------------------------\n",
    "moves = [\n",
    "    [\" A_1 \", \" a_1 \", \" A_2 \"], [\" A_2 \"], [\" A_2 \", \" a_2 \", \" A_3 \"], [\" A_3 \"], [\" A_3 \", \" a_3 \", \" A_4 \"], [\" A_4 \"], [\" A_4 \", \" a_4 \", \" A_5 \"], [\" A_5 \"], [\" A_5 \", \" a_5 \"]\n",
    "  ]\n",
    "verify_moves(moves)   # no exception → plan is valid\n",
    "print(\"✔  All constraints satisfied!\")"
   ],
   "metadata": {
    "colab": {
     "base_uri": "https://localhost:8080/",
     "height": 331
    },
    "id": "Cvddj2oRYn6K",
    "outputId": "d7350f9a-e33f-4eb6-d2fa-646dff1b50dc"
   },
   "execution_count": null,
   "outputs": [
    {
     "output_type": "error",
     "ename": "ValueError",
     "evalue": "Step 1: unsafe mix on the departing bank after leaving",
     "traceback": [
      "\u001B[0;31m---------------------------------------------------------------------------\u001B[0m",
      "\u001B[0;31mValueError\u001B[0m                                Traceback (most recent call last)",
      "\u001B[0;32m/tmp/ipython-input-26-1886381012.py\u001B[0m in \u001B[0;36m<cell line: 0>\u001B[0;34m()\u001B[0m\n\u001B[1;32m     70\u001B[0m     \u001B[0;34m[\u001B[0m\u001B[0;34m\" A_1 \"\u001B[0m\u001B[0;34m,\u001B[0m \u001B[0;34m\" a_1 \"\u001B[0m\u001B[0;34m,\u001B[0m \u001B[0;34m\" A_2 \"\u001B[0m\u001B[0;34m]\u001B[0m\u001B[0;34m,\u001B[0m \u001B[0;34m[\u001B[0m\u001B[0;34m\" A_2 \"\u001B[0m\u001B[0;34m]\u001B[0m\u001B[0;34m,\u001B[0m \u001B[0;34m[\u001B[0m\u001B[0;34m\" A_2 \"\u001B[0m\u001B[0;34m,\u001B[0m \u001B[0;34m\" a_2 \"\u001B[0m\u001B[0;34m,\u001B[0m \u001B[0;34m\" A_3 \"\u001B[0m\u001B[0;34m]\u001B[0m\u001B[0;34m,\u001B[0m \u001B[0;34m[\u001B[0m\u001B[0;34m\" A_3 \"\u001B[0m\u001B[0;34m]\u001B[0m\u001B[0;34m,\u001B[0m \u001B[0;34m[\u001B[0m\u001B[0;34m\" A_3 \"\u001B[0m\u001B[0;34m,\u001B[0m \u001B[0;34m\" a_3 \"\u001B[0m\u001B[0;34m,\u001B[0m \u001B[0;34m\" A_4 \"\u001B[0m\u001B[0;34m]\u001B[0m\u001B[0;34m,\u001B[0m \u001B[0;34m[\u001B[0m\u001B[0;34m\" A_4 \"\u001B[0m\u001B[0;34m]\u001B[0m\u001B[0;34m,\u001B[0m \u001B[0;34m[\u001B[0m\u001B[0;34m\" A_4 \"\u001B[0m\u001B[0;34m,\u001B[0m \u001B[0;34m\" a_4 \"\u001B[0m\u001B[0;34m,\u001B[0m \u001B[0;34m\" A_5 \"\u001B[0m\u001B[0;34m]\u001B[0m\u001B[0;34m,\u001B[0m \u001B[0;34m[\u001B[0m\u001B[0;34m\" A_5 \"\u001B[0m\u001B[0;34m]\u001B[0m\u001B[0;34m,\u001B[0m \u001B[0;34m[\u001B[0m\u001B[0;34m\" A_5 \"\u001B[0m\u001B[0;34m,\u001B[0m \u001B[0;34m\" a_5 \"\u001B[0m\u001B[0;34m]\u001B[0m\u001B[0;34m\u001B[0m\u001B[0;34m\u001B[0m\u001B[0m\n\u001B[1;32m     71\u001B[0m   ]\n\u001B[0;32m---> 72\u001B[0;31m \u001B[0mverify_moves\u001B[0m\u001B[0;34m(\u001B[0m\u001B[0mmoves\u001B[0m\u001B[0;34m)\u001B[0m   \u001B[0;31m# no exception → plan is valid\u001B[0m\u001B[0;34m\u001B[0m\u001B[0;34m\u001B[0m\u001B[0m\n\u001B[0m\u001B[1;32m     73\u001B[0m \u001B[0mprint\u001B[0m\u001B[0;34m(\u001B[0m\u001B[0;34m\"✔  All constraints satisfied!\"\u001B[0m\u001B[0;34m)\u001B[0m\u001B[0;34m\u001B[0m\u001B[0;34m\u001B[0m\u001B[0m\n",
      "\u001B[0;32m/tmp/ipython-input-26-1886381012.py\u001B[0m in \u001B[0;36mverify_moves\u001B[0;34m(moves, boat_capacity, verbose)\u001B[0m\n\u001B[1;32m     45\u001B[0m             \u001B[0;32mraise\u001B[0m \u001B[0mValueError\u001B[0m\u001B[0;34m(\u001B[0m\u001B[0;34mf\"Step {t}: unsafe mix *inside the boat* {step}\"\u001B[0m\u001B[0;34m)\u001B[0m\u001B[0;34m\u001B[0m\u001B[0;34m\u001B[0m\u001B[0m\n\u001B[1;32m     46\u001B[0m         \u001B[0;32mif\u001B[0m \u001B[0;32mnot\u001B[0m \u001B[0mis_safe\u001B[0m\u001B[0;34m(\u001B[0m\u001B[0mcurrent\u001B[0m \u001B[0;34m-\u001B[0m \u001B[0mset\u001B[0m\u001B[0;34m(\u001B[0m\u001B[0mstep\u001B[0m\u001B[0;34m)\u001B[0m\u001B[0;34m)\u001B[0m\u001B[0;34m:\u001B[0m\u001B[0;34m\u001B[0m\u001B[0;34m\u001B[0m\u001B[0m\n\u001B[0;32m---> 47\u001B[0;31m             \u001B[0;32mraise\u001B[0m \u001B[0mValueError\u001B[0m\u001B[0;34m(\u001B[0m\u001B[0;34mf\"Step {t}: unsafe mix on the departing bank after leaving\"\u001B[0m\u001B[0;34m)\u001B[0m\u001B[0;34m\u001B[0m\u001B[0;34m\u001B[0m\u001B[0m\n\u001B[0m\u001B[1;32m     48\u001B[0m         \u001B[0;32mif\u001B[0m \u001B[0;32mnot\u001B[0m \u001B[0mis_safe\u001B[0m\u001B[0;34m(\u001B[0m\u001B[0mother\u001B[0m\u001B[0;34m)\u001B[0m\u001B[0;34m:\u001B[0m\u001B[0;34m\u001B[0m\u001B[0;34m\u001B[0m\u001B[0m\n\u001B[1;32m     49\u001B[0m             \u001B[0;32mraise\u001B[0m \u001B[0mValueError\u001B[0m\u001B[0;34m(\u001B[0m\u001B[0;34mf\"Step {t}: unsafe mix on the destination bank before arrival\"\u001B[0m\u001B[0;34m)\u001B[0m\u001B[0;34m\u001B[0m\u001B[0;34m\u001B[0m\u001B[0m\n",
      "\u001B[0;31mValueError\u001B[0m: Step 1: unsafe mix on the departing bank after leaving"
     ]
    }
   ]
  }
 ]
}
