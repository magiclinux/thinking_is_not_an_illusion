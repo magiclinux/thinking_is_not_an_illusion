{
 "nbformat": 4,
 "nbformat_minor": 0,
 "metadata": {
  "colab": {
   "provenance": []
  },
  "kernelspec": {
   "name": "python3",
   "display_name": "Python 3"
  },
  "language_info": {
   "name": "python"
  }
 },
 "cells": [
  {
   "cell_type": "code",
   "execution_count": null,
   "metadata": {
    "colab": {
     "base_uri": "https://localhost:8080/"
    },
    "id": "4Ih8H-u7W5iH",
    "outputId": "97a7d172-bbc8-41ab-df50-1b01dafea85a"
   },
   "outputs": [
    {
     "output_type": "stream",
     "name": "stdout",
     "text": [
      "\n"
     ]
    }
   ],
   "source": [
    "from openai import OpenAI\n",
    "from config import DEEPSEEK_API_KEY, OPENROUTER_API_KEY\n",
    "client = OpenAI(\n",
    "  base_url=\"https://openrouter.ai/api/v1\",\n",
    "  api_key=OPENROUTER_API_KEY,#Your model API key here\n",
    ")\n",
    "messages=[ {\"role\":\"system\",\"content\":\n",
    "       \"\"\"\n",
    "You are a helpful assistant. Solve this puzzle for me.\n",
    "There are three pegs and n disks of different sizes stacked on the first peg.\n",
    "The disks are numbered from 1 (smallest) to n (largest). Disk moves in this puzzle should follow:\n",
    "1. Only one disk can be moved at a time.\n",
    "2. Each move consists of taking the upper disk from one stack and placing it on top of another stack.\n",
    "3. A larger disk may not be placed on top of a smaller disk.\n",
    "The goal is to move the entire stack to the third peg.\n",
    "Example: With 3 disks numbered 1 (smallest), 2, and 3 (largest), the initial state is [[3, 2, 1], [], []], and a solution might be:\n",
    "moves = [[1 , 0 , 2] , [2 , 0 , 1] , [1 , 2 , 1] , [3 , 0 , 2] , [1 , 1 , 0] , [2 , 1 , 2] , [1 , 0 , 2]]\n",
    "This means: Move disk 1 from peg 0 to peg 2, then move disk 2 from peg 0 to peg 1, and so on. Requirements:\n",
    "• When exploring potential solutions in your thinking process, always include the corresponding complete list of moves.\n",
    "• The positions are 0-indexed (the leftmost peg is 0).\n",
    "• Ensure your final answer includes the complete list of moves in the format: moves = [[disk id, from peg, to peg], ...]\n",
    "\n",
    "       \"\"\"\n",
    "      },\n",
    "      {\"role\": \"user\", \"content\":\n",
    "       \"\"\"\n",
    "I have a puzzle with 7 disks of different sizes with Initial configuration:\n",
    "• Peg 0: 7 (bottom), . . . 2, 1 (top)\n",
    "• Peg 1: (empty)\n",
    "• Peg 2: (empty)\n",
    "Goal configuration:\n",
    "• Peg 0: (empty)\n",
    "• Peg 1: (empty)\n",
    "• Peg 2: 7 (bottom), . . . 2, 1 (top)\n",
    "Rules:\n",
    "• Only one disk can be moved at a time.\n",
    "• Only the top disk from any stack can be moved.\n",
    "• A larger disk may not be placed on top of a smaller disk.\n",
    "Find the sequence of moves to transform the initial configuration into the goal configuration.\n",
    "\n",
    "       \"\"\"},\n",
    "    ]\n",
    "\n",
    "completion = client.chat.completions.create(\n",
    "  extra_headers={\n",
    "  },\n",
    "  extra_body={},\n",
    "  model=\"qwen/qwen3-32b\",\n",
    "  max_tokens=64000,\n",
    "  messages=messages\n",
    ")\n",
    "print(completion.choices[0].message.content)"
   ]
  },
  {
   "cell_type": "code",
   "source": [
    "from typing import List, Tuple\n",
    "\n",
    "Move = Tuple[int, int, int]   # (disk, src_peg, dst_peg)\n",
    "\n",
    "def validate_hanoi_moves(moves: List[Move],\n",
    "                         n_disks: int | None = None,\n",
    "                         use_one_based: bool = False,\n",
    "                         verbose: bool = False) -> bool:\n",
    "\n",
    "    if n_disks is None:\n",
    "      try:\n",
    "          n_disks = max(disk for disk, _, _ in moves)\n",
    "      except ValueError:\n",
    "          raise ValueError(\"moves list is empty; cannot infer disk count\")\n",
    "\n",
    "    # 选择下标映射\n",
    "    if use_one_based:\n",
    "        def idx(i: int) -> int:\n",
    "            if i not in {1, 2, 3}:\n",
    "                raise ValueError(f\"Peg must be 1,2,3; got {i}\")\n",
    "            return i - 1\n",
    "    else:\n",
    "        def idx(i: int) -> int:\n",
    "            if i not in {0, 1, 2}:\n",
    "                raise ValueError(f\"Peg must be 0,1,2; got {i}\")\n",
    "            return i\n",
    "\n",
    "    pegs = [list(range(n_disks, 0, -1)), [], []]\n",
    "    goal = [[], [], list(range(n_disks, 0, -1))]\n",
    "\n",
    "    def top(p):\n",
    "        return pegs[p][-1] if pegs[p] else None\n",
    "\n",
    "    for step, (disk, src, dst) in enumerate(moves, start=1):\n",
    "        s, d = idx(src), idx(dst)\n",
    "\n",
    "        if not (1 <= disk <= n_disks):\n",
    "            raise ValueError(f\"Step {step}: disk {disk} out of range 1…{n_disks}\")\n",
    "\n",
    "        if top(s) != disk:\n",
    "            raise ValueError(\n",
    "                f\"Step {step}: top of peg {src} is {top(s)}, expected {disk}\")\n",
    "\n",
    "        if top(d) is not None and top(d) < disk:\n",
    "            raise ValueError(\n",
    "                f\"Step {step}: cannot place disk {disk} on smaller disk {top(d)}\")\n",
    "\n",
    "        pegs[s].pop()\n",
    "        pegs[d].append(disk)\n",
    "\n",
    "        if verbose:\n",
    "            print(f\"After step {step}: {pegs}\")\n",
    "\n",
    "    if pegs != goal:\n",
    "        raise AssertionError(\n",
    "            f\"Final state differs from goal.\\nGot : {pegs}\\nGoal: {goal}\")\n",
    "\n",
    "    if verbose:\n",
    "        print(\"✓ All moves valid, goal reached!\")\n",
    "    return True\n",
    "\n",
    "\n",
    "# ---------- Usage Example ----------\n",
    "if __name__ == \"__main__\":\n",
    "    moves = []\n",
    "    validate_hanoi_moves(moves, verbose=True)\n"
   ],
   "metadata": {
    "colab": {
     "base_uri": "https://localhost:8080/",
     "height": 514
    },
    "id": "vnpoqgUyX149",
    "outputId": "e3d052a6-9b0f-4ca6-a678-d3b6ce1af504"
   },
   "execution_count": null,
   "outputs": [
    {
     "output_type": "stream",
     "name": "stdout",
     "text": [
      "After step 1: [[7, 6, 5, 4, 3, 2], [], [1]]\n",
      "After step 2: [[7, 6, 5, 4, 3], [2], [1]]\n",
      "After step 3: [[7, 6, 5, 4, 3], [2, 1], []]\n",
      "After step 4: [[7, 6, 5, 4], [2, 1], [3]]\n",
      "After step 5: [[7, 6, 5, 4, 1], [2], [3]]\n",
      "After step 6: [[7, 6, 5, 4, 1], [], [3, 2]]\n",
      "After step 7: [[7, 6, 5, 4], [], [3, 2, 1]]\n",
      "After step 8: [[7, 6, 5], [4], [3, 2, 1]]\n",
      "After step 9: [[7, 6, 5], [4, 1], [3, 2]]\n"
     ]
    },
    {
     "output_type": "error",
     "ename": "ValueError",
     "evalue": "Step 10: top of peg 0 is 5, expected 2",
     "traceback": [
      "\u001B[0;31m---------------------------------------------------------------------------\u001B[0m",
      "\u001B[0;31mValueError\u001B[0m                                Traceback (most recent call last)",
      "\u001B[0;32m/tmp/ipython-input-21-481306943.py\u001B[0m in \u001B[0;36m<cell line: 0>\u001B[0;34m()\u001B[0m\n\u001B[1;32m    229\u001B[0m         ]\n\u001B[1;32m    230\u001B[0m \u001B[0;34m\u001B[0m\u001B[0m\n\u001B[0;32m--> 231\u001B[0;31m     \u001B[0mvalidate_hanoi_moves\u001B[0m\u001B[0;34m(\u001B[0m\u001B[0mmoves\u001B[0m\u001B[0;34m,\u001B[0m \u001B[0mverbose\u001B[0m\u001B[0;34m=\u001B[0m\u001B[0;32mTrue\u001B[0m\u001B[0;34m)\u001B[0m  \u001B[0;31m# ← 1-3 编号示例\u001B[0m\u001B[0;34m\u001B[0m\u001B[0;34m\u001B[0m\u001B[0m\n\u001B[0m\u001B[1;32m    232\u001B[0m \u001B[0;34m\u001B[0m\u001B[0m\n\u001B[1;32m    233\u001B[0m     \u001B[0;31m# 如果你的 moves 用 0-2 下标：\u001B[0m\u001B[0;34m\u001B[0m\u001B[0;34m\u001B[0m\u001B[0m\n",
      "\u001B[0;32m/tmp/ipython-input-21-481306943.py\u001B[0m in \u001B[0;36mvalidate_hanoi_moves\u001B[0;34m(moves, n_disks, use_one_based, verbose)\u001B[0m\n\u001B[1;32m     47\u001B[0m         \u001B[0;31m# 2) 源柱非空 & 顶端必须正是该盘\u001B[0m\u001B[0;34m\u001B[0m\u001B[0;34m\u001B[0m\u001B[0m\n\u001B[1;32m     48\u001B[0m         \u001B[0;32mif\u001B[0m \u001B[0mtop\u001B[0m\u001B[0;34m(\u001B[0m\u001B[0ms\u001B[0m\u001B[0;34m)\u001B[0m \u001B[0;34m!=\u001B[0m \u001B[0mdisk\u001B[0m\u001B[0;34m:\u001B[0m\u001B[0;34m\u001B[0m\u001B[0;34m\u001B[0m\u001B[0m\n\u001B[0;32m---> 49\u001B[0;31m             raise ValueError(\n\u001B[0m\u001B[1;32m     50\u001B[0m                 f\"Step {step}: top of peg {src} is {top(s)}, expected {disk}\")\n\u001B[1;32m     51\u001B[0m \u001B[0;34m\u001B[0m\u001B[0m\n",
      "\u001B[0;31mValueError\u001B[0m: Step 10: top of peg 0 is 5, expected 2"
     ]
    }
   ]
  }
 ]
}
