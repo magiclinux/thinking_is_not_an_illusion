{
 "cells": [
  {
   "cell_type": "code",
   "metadata": {
    "colab": {
     "background_save": true
    },
    "id": "gq4f_CSGrwwQ",
    "outputId": "1020ee0a-90a0-49e7-b506-4ff73bc9270f",
    "ExecuteTime": {
     "end_time": "2025-07-24T01:48:26.730801Z",
     "start_time": "2025-07-24T01:45:53.557260Z"
    }
   },
   "source": [
    "# Please install OpenAI SDK first: `pip3 install openai`\n",
    "from config import DEEPSEEK_API_KEY, OPENROUTER_API_KEY\n",
    "from openai import OpenAI\n",
    "\n",
    "client = OpenAI(api_key=DEEPSEEK_API_KEY, base_url=\"https://api.deepseek.com\")#Your model API key here\n",
    "\n",
    "response = client.chat.completions.create(\n",
    "    model=\"deepseek-reasoner\",\n",
    "    timeout= 1200,\n",
    "    messages=[\n",
    "        {\"role\": \"system\", \"content\": \"\"\"You are a helpful assistant. Solve this puzzle for me.\n",
    "In this puzzle, there are stacks of blocks, and the goal is to rearrange them into a target\n",
    "configuration using a sequence of moves where:\n",
    "• Only the topmost block from any stack can be moved.\n",
    "• A block can be placed either on an empty position or on top of another block.\n",
    "Example: With initial state [[\"A\", \"B\"], [\"C\"], []] and goal state [[\"A\"], [\"B\"],\n",
    "[\"C\"]], a solution might be:\n",
    "moves = [[\" C \" , 1 , 2] , [\" B \" , 0 , 1]]\n",
    "This means: Move block C from stack 1 to stack 2, then move block B from stack 0 to stack 1.\n",
    "Requirements:\n",
    "• When exploring potential solutions in your thinking process, always include the corresponding complete list of moves.\n",
    "• Ensure your final answer also includes the complete list of moves for final solution in the\n",
    "format: moves = [[block, from stack, to stack], ...]\"\"\"},\n",
    "        {\"role\": \"user\", \"content\":\n",
    "    \"\"\"I have a puzzle with 9 blocks.\n",
    "Initial state:\n",
    "Stack 0: A, B, C(top)\n",
    "Stack 1: (empty) (top)\n",
    "...\n",
    "Stack 2: (empty) (top)\n",
    "Goal state:\n",
    "Stack 0: A (top)\n",
    "Stack 1: B (top)\n",
    "...\n",
    "Stack 2: C (top)\n",
    "Find the minimum sequence of moves to transform the initial state into the goal state. Remember\n",
    "that only the topmost block of each stack can be moved.\"\"\"}\n",
    "    ],\n",
    "\n",
    "    stream=False\n",
    ")\n",
    "\n",
    "print(response.choices[0].message.content)"
   ],
   "outputs": [
    {
     "name": "stdout",
     "output_type": "stream",
     "text": [
      "The puzzle involves rearranging blocks A, B, and C from the initial state to the goal state using the minimum number of moves. The initial state has Stack 0 containing blocks A, B, and C (with C on top), Stack 1 empty, and Stack 2 empty. The goal state requires Stack 0 to contain only A (with A on top), Stack 1 to contain only B (with B on top), and Stack 2 to contain only C (with C on top).\n",
      "\n",
      "Only the topmost block of any stack can be moved, and blocks can be placed on an empty stack or on top of another block. Since Stack 1 and Stack 2 are initially empty, they can be used as temporary or final positions.\n",
      "\n",
      "### Step-by-Step Solution:\n",
      "1. **Move C from Stack 0 to Stack 2**:  \n",
      "   - Reason: C is the topmost block on Stack 0 and needs to be on Stack 2 in the goal. Moving it directly to Stack 2 (which is empty) achieves part of the goal efficiently.  \n",
      "   - State after move:  \n",
      "     - Stack 0: [A, B] (B is now top)  \n",
      "     - Stack 1: [] (empty)  \n",
      "     - Stack 2: [C] (C on top)\n",
      "\n",
      "2. **Move B from Stack 0 to Stack 1**:  \n",
      "   - Reason: B is now the topmost block on Stack 0 and needs to be on Stack 1 in the goal. Moving it directly to Stack 1 (which is empty) completes the rearrangement.  \n",
      "   - State after move:  \n",
      "     - Stack 0: [A] (A on top)  \n",
      "     - Stack 1: [B] (B on top)  \n",
      "     - Stack 2: [C] (C on top)  \n",
      "   - This matches the goal state.\n",
      "\n",
      "This sequence uses only 2 moves, which is the minimum possible since both B and C must be moved from Stack 0 to their respective stacks, and no fewer moves can achieve the goal.\n",
      "\n",
      "### Complete List of Moves:\n",
      "The moves are formatted as `[block, from stack, to stack]`.\n",
      "\n",
      "```python\n",
      "moves = [[\"C\", 0, 2], [\"B\", 0, 1]]\n",
      "```\n"
     ]
    }
   ],
   "execution_count": 2
  },
  {
   "cell_type": "code",
   "execution_count": null,
   "metadata": {
    "id": "VKt5GRtas9CU"
   },
   "outputs": [],
   "source": [
    "from typing import List, Tuple\n",
    "\n",
    "State = List[List[str]]\n",
    "Move  = Tuple[str, int, int]      # (block, src_stack, dst_stack)\n",
    "\n",
    "def validate_moves(moves: List[Move],\n",
    "                   initial: State,\n",
    "                   goal: State,\n",
    "                   verbose: bool = False) -> bool:\n",
    "\n",
    "\n",
    "    stacks = [col[:] for col in initial]\n",
    "\n",
    "    def top(idx: int):\n",
    "        return stacks[idx][-1] if stacks[idx] else None\n",
    "\n",
    "    for step, (blk, src, dst) in enumerate(moves, start=1):\n",
    "\n",
    "        if not stacks[src]:\n",
    "            raise ValueError(f\"Step {step}: source stack {src} is empty.\")\n",
    "        if top(src) != blk:\n",
    "            raise ValueError(\n",
    "                f\"Step {step}: top of stack {src} is {top(src)}, expected {blk}.\")\n",
    "\n",
    "\n",
    "        stacks[src].pop()\n",
    "        stacks[dst].append(blk)\n",
    "\n",
    "        if verbose:\n",
    "            print(f\"After step {step}: {stacks}\")\n",
    "\n",
    "\n",
    "    if stacks != goal:\n",
    "        raise AssertionError(\n",
    "            f\"Final state differs from goal.\\nGot : {stacks}\\nGoal: {goal}\")\n",
    "\n",
    "    if verbose:\n",
    "        print(\"✓ All moves valid and goal reached!\")\n",
    "    return True\n",
    "\n",
    "if __name__ == \"__main__\":\n",
    "\n",
    "    moves = []\n",
    "\n",
    "\n",
    "    initial_state = []\n",
    "    goal_state = []\n",
    "\n",
    "\n",
    "    validate_moves(moves, initial_state, goal_state, verbose=True)"
   ]
  }
 ],
 "metadata": {
  "colab": {
   "provenance": []
  },
  "kernelspec": {
   "display_name": "Python 3 (ipykernel)",
   "name": "python3",
   "language": "python"
  },
  "language_info": {
   "name": "python"
  }
 },
 "nbformat": 4,
 "nbformat_minor": 0
}
